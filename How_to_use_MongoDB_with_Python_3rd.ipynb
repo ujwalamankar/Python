{
 "cells": [
  {
   "cell_type": "code",
   "execution_count": 34,
   "id": "f1f5f1f9",
   "metadata": {},
   "outputs": [],
   "source": [
    "import pymongo"
   ]
  },
  {
   "cell_type": "code",
   "execution_count": 35,
   "id": "4e265f6d",
   "metadata": {},
   "outputs": [],
   "source": [
    "connection_url='mongodb://localhost:27017/'"
   ]
  },
  {
   "cell_type": "code",
   "execution_count": 36,
   "id": "0584fd6c",
   "metadata": {},
   "outputs": [],
   "source": [
    "client=pymongo.MongoClient(connection_url)"
   ]
  },
  {
   "cell_type": "code",
   "execution_count": 37,
   "id": "630810cd",
   "metadata": {},
   "outputs": [
    {
     "name": "stdout",
     "output_type": "stream",
     "text": [
      "Client: MongoClient(host=['localhost:27017'], document_class=dict, tz_aware=False, connect=True)\n"
     ]
    }
   ],
   "source": [
    "print('Client:',client)"
   ]
  },
  {
   "cell_type": "markdown",
   "id": "51f2f7e5",
   "metadata": {},
   "source": [
    "### Creating Database"
   ]
  },
  {
   "cell_type": "code",
   "execution_count": 38,
   "id": "e6cb4dd2",
   "metadata": {},
   "outputs": [],
   "source": [
    "database_name='employee_db'\n",
    "employee_db=client[database_name]"
   ]
  },
  {
   "cell_type": "code",
   "execution_count": 39,
   "id": "42a602a2",
   "metadata": {},
   "outputs": [],
   "source": [
    "collection_name='employee_Details'"
   ]
  },
  {
   "cell_type": "code",
   "execution_count": 40,
   "id": "52f0193b",
   "metadata": {},
   "outputs": [],
   "source": [
    "collection=employee_db[collection_name]"
   ]
  },
  {
   "cell_type": "code",
   "execution_count": 41,
   "id": "fa2db3ec",
   "metadata": {},
   "outputs": [
    {
     "name": "stdout",
     "output_type": "stream",
     "text": [
      "collection ['employee_Details']\n"
     ]
    }
   ],
   "source": [
    "print('collection',employee_db.list_collection_names())"
   ]
  },
  {
   "cell_type": "markdown",
   "id": "baf3b505",
   "metadata": {},
   "source": [
    "### Inserting document in collection"
   ]
  },
  {
   "cell_type": "code",
   "execution_count": 42,
   "id": "e1f99297",
   "metadata": {},
   "outputs": [
    {
     "data": {
      "text/plain": [
       "<pymongo.results.InsertOneResult at 0x1e5b0aaaec0>"
      ]
     },
     "execution_count": 42,
     "metadata": {},
     "output_type": "execute_result"
    }
   ],
   "source": [
    "document={'name':'raj','emp_id':1,'brach':'python'}\n",
    "collection.insert_one(document)"
   ]
  },
  {
   "cell_type": "code",
   "execution_count": 43,
   "id": "a2a22e76",
   "metadata": {},
   "outputs": [],
   "source": [
    "documents=[\n",
    "    {'name':'radha','emp_id':2,'brach':'python'},\n",
    "    {'name':'rajesh','emp_id':3,'brach':'java'},\n",
    "    {'name':'raju','emp_id':4,'brach':'c'}\n",
    "]"
   ]
  },
  {
   "cell_type": "code",
   "execution_count": 44,
   "id": "ff56b932",
   "metadata": {},
   "outputs": [
    {
     "data": {
      "text/plain": [
       "<pymongo.results.InsertManyResult at 0x1e5b0aaa640>"
      ]
     },
     "execution_count": 44,
     "metadata": {},
     "output_type": "execute_result"
    }
   ],
   "source": [
    "collection.insert_many(documents)"
   ]
  },
  {
   "cell_type": "markdown",
   "id": "c645830e",
   "metadata": {},
   "source": [
    "### retriving data from collection"
   ]
  },
  {
   "cell_type": "code",
   "execution_count": 45,
   "id": "de8e1e6a",
   "metadata": {},
   "outputs": [
    {
     "name": "stdout",
     "output_type": "stream",
     "text": [
      "{'_id': ObjectId('64770a2bddab76ad9f7d5589'), 'name': 'raj', 'emp_id': 1, 'branch': 'python'}\n"
     ]
    }
   ],
   "source": [
    "#retriving a single document\n",
    "query={'name':'raj'}\n",
    "print(collection.find_one(query))"
   ]
  },
  {
   "cell_type": "code",
   "execution_count": 46,
   "id": "7b561ea0",
   "metadata": {},
   "outputs": [
    {
     "data": {
      "text/plain": [
       "<pymongo.cursor.Cursor at 0x1e5b0ad1a30>"
      ]
     },
     "execution_count": 46,
     "metadata": {},
     "output_type": "execute_result"
    }
   ],
   "source": [
    "#retriving multiplt document\n",
    "query={'brach':'python'}\n",
    "result=collection.find(query)\n",
    "result"
   ]
  },
  {
   "cell_type": "code",
   "execution_count": 47,
   "id": "a0d21b7a",
   "metadata": {},
   "outputs": [
    {
     "name": "stdout",
     "output_type": "stream",
     "text": [
      "{'_id': ObjectId('64771a3addab76ad9f7d558b'), 'name': 'raj', 'emp_id': 1, 'brach': 'python'}\n",
      "{'_id': ObjectId('64771a3bddab76ad9f7d558c'), 'name': 'radha', 'emp_id': 2, 'brach': 'python'}\n"
     ]
    }
   ],
   "source": [
    "for i in result:\n",
    "    print(i)"
   ]
  },
  {
   "cell_type": "markdown",
   "id": "fdf6ca39",
   "metadata": {},
   "source": [
    "### Updating the documents in the collection"
   ]
  },
  {
   "cell_type": "code",
   "execution_count": 49,
   "id": "6e478f51",
   "metadata": {},
   "outputs": [
    {
     "ename": "TypeError",
     "evalue": "'Collection' object is not callable. If you meant to call the 'fine_one' method on a 'Collection' object it is failing because no such method exists.",
     "output_type": "error",
     "traceback": [
      "\u001b[1;31m---------------------------------------------------------------------------\u001b[0m",
      "\u001b[1;31mTypeError\u001b[0m                                 Traceback (most recent call last)",
      "Cell \u001b[1;32mIn [49], line 3\u001b[0m\n\u001b[0;32m      1\u001b[0m \u001b[38;5;66;03m#updating single document\u001b[39;00m\n\u001b[0;32m      2\u001b[0m query\u001b[38;5;241m=\u001b[39m{\u001b[38;5;124m'\u001b[39m\u001b[38;5;124memp_id\u001b[39m\u001b[38;5;124m'\u001b[39m:{\u001b[38;5;124m'\u001b[39m\u001b[38;5;124m#eq\u001b[39m\u001b[38;5;124m'\u001b[39m:\u001b[38;5;241m2\u001b[39m}}\n\u001b[1;32m----> 3\u001b[0m present_data\u001b[38;5;241m=\u001b[39m\u001b[43mcollection\u001b[49m\u001b[38;5;241;43m.\u001b[39;49m\u001b[43mfine_one\u001b[49m\u001b[43m(\u001b[49m\u001b[43mquery\u001b[49m\u001b[43m)\u001b[49m\n\u001b[0;32m      4\u001b[0m new_data\u001b[38;5;241m=\u001b[39m{\u001b[38;5;124m'\u001b[39m\u001b[38;5;124m$set\u001b[39m\u001b[38;5;124m'\u001b[39m:{\u001b[38;5;124m'\u001b[39m\u001b[38;5;124mname\u001b[39m\u001b[38;5;124m'\u001b[39m:\u001b[38;5;124m'\u001b[39m\u001b[38;5;124mRajeswari\u001b[39m\u001b[38;5;124m'\u001b[39m}}\n\u001b[0;32m      6\u001b[0m collection\u001b[38;5;241m.\u001b[39mupdate_one(present_data,new_data)\n",
      "File \u001b[1;32m~\\anaconda3\\lib\\site-packages\\pymongo\\collection.py:2584\u001b[0m, in \u001b[0;36mCollection.__call__\u001b[1;34m(self, *args, **kwargs)\u001b[0m\n\u001b[0;32m   2578\u001b[0m \u001b[38;5;28;01mif\u001b[39;00m \u001b[38;5;124m\"\u001b[39m\u001b[38;5;124m.\u001b[39m\u001b[38;5;124m\"\u001b[39m \u001b[38;5;129;01mnot\u001b[39;00m \u001b[38;5;129;01min\u001b[39;00m \u001b[38;5;28mself\u001b[39m\u001b[38;5;241m.\u001b[39m__name:\n\u001b[0;32m   2579\u001b[0m     \u001b[38;5;28;01mraise\u001b[39;00m \u001b[38;5;167;01mTypeError\u001b[39;00m(\u001b[38;5;124m\"\u001b[39m\u001b[38;5;124m'\u001b[39m\u001b[38;5;124mCollection\u001b[39m\u001b[38;5;124m'\u001b[39m\u001b[38;5;124m object is not callable. If you \u001b[39m\u001b[38;5;124m\"\u001b[39m\n\u001b[0;32m   2580\u001b[0m                     \u001b[38;5;124m\"\u001b[39m\u001b[38;5;124mmeant to call the \u001b[39m\u001b[38;5;124m'\u001b[39m\u001b[38;5;132;01m%s\u001b[39;00m\u001b[38;5;124m'\u001b[39m\u001b[38;5;124m method on a \u001b[39m\u001b[38;5;124m'\u001b[39m\u001b[38;5;124mDatabase\u001b[39m\u001b[38;5;124m'\u001b[39m\u001b[38;5;124m \u001b[39m\u001b[38;5;124m\"\u001b[39m\n\u001b[0;32m   2581\u001b[0m                     \u001b[38;5;124m\"\u001b[39m\u001b[38;5;124mobject it is failing because no such method \u001b[39m\u001b[38;5;124m\"\u001b[39m\n\u001b[0;32m   2582\u001b[0m                     \u001b[38;5;124m\"\u001b[39m\u001b[38;5;124mexists.\u001b[39m\u001b[38;5;124m\"\u001b[39m \u001b[38;5;241m%\u001b[39m\n\u001b[0;32m   2583\u001b[0m                     \u001b[38;5;28mself\u001b[39m\u001b[38;5;241m.\u001b[39m__name)\n\u001b[1;32m-> 2584\u001b[0m \u001b[38;5;28;01mraise\u001b[39;00m \u001b[38;5;167;01mTypeError\u001b[39;00m(\u001b[38;5;124m\"\u001b[39m\u001b[38;5;124m'\u001b[39m\u001b[38;5;124mCollection\u001b[39m\u001b[38;5;124m'\u001b[39m\u001b[38;5;124m object is not callable. If you meant to \u001b[39m\u001b[38;5;124m\"\u001b[39m\n\u001b[0;32m   2585\u001b[0m                 \u001b[38;5;124m\"\u001b[39m\u001b[38;5;124mcall the \u001b[39m\u001b[38;5;124m'\u001b[39m\u001b[38;5;132;01m%s\u001b[39;00m\u001b[38;5;124m'\u001b[39m\u001b[38;5;124m method on a \u001b[39m\u001b[38;5;124m'\u001b[39m\u001b[38;5;124mCollection\u001b[39m\u001b[38;5;124m'\u001b[39m\u001b[38;5;124m object it is \u001b[39m\u001b[38;5;124m\"\u001b[39m\n\u001b[0;32m   2586\u001b[0m                 \u001b[38;5;124m\"\u001b[39m\u001b[38;5;124mfailing because no such method exists.\u001b[39m\u001b[38;5;124m\"\u001b[39m \u001b[38;5;241m%\u001b[39m\n\u001b[0;32m   2587\u001b[0m                 \u001b[38;5;28mself\u001b[39m\u001b[38;5;241m.\u001b[39m__name\u001b[38;5;241m.\u001b[39msplit(\u001b[38;5;124m\"\u001b[39m\u001b[38;5;124m.\u001b[39m\u001b[38;5;124m\"\u001b[39m)[\u001b[38;5;241m-\u001b[39m\u001b[38;5;241m1\u001b[39m])\n",
      "\u001b[1;31mTypeError\u001b[0m: 'Collection' object is not callable. If you meant to call the 'fine_one' method on a 'Collection' object it is failing because no such method exists."
     ]
    }
   ],
   "source": [
    "#updating single document\n",
    "query={'emp_id':{'#eq':2}}\n",
    "present_data=collection.fine_one(query)\n",
    "new_data={'$set':{'name':'Rajeswari'}}\n",
    "\n",
    "collection.update_one(present_data,new_data)"
   ]
  },
  {
   "cell_type": "markdown",
   "id": "417796d7",
   "metadata": {},
   "source": [
    "### Deleting documents from collection"
   ]
  },
  {
   "cell_type": "code",
   "execution_count": 32,
   "id": "8584c991",
   "metadata": {},
   "outputs": [
    {
     "data": {
      "text/plain": [
       "<pymongo.results.DeleteResult at 0x1e5b0a36f80>"
      ]
     },
     "execution_count": 32,
     "metadata": {},
     "output_type": "execute_result"
    }
   ],
   "source": [
    "#deleting one document\n",
    "query={'emp_id':4}\n",
    "collection.delete_one(query)"
   ]
  },
  {
   "cell_type": "code",
   "execution_count": 33,
   "id": "54a256d7",
   "metadata": {},
   "outputs": [
    {
     "data": {
      "text/plain": [
       "<pymongo.results.DeleteResult at 0x1e5b0aa44c0>"
      ]
     },
     "execution_count": 33,
     "metadata": {},
     "output_type": "execute_result"
    }
   ],
   "source": [
    "#deleting multiple documents\n",
    "query={'brach':'python'}\n",
    "collection.delete_many(query)"
   ]
  },
  {
   "cell_type": "code",
   "execution_count": null,
   "id": "d7cc17bc",
   "metadata": {},
   "outputs": [],
   "source": []
  }
 ],
 "metadata": {
  "kernelspec": {
   "display_name": "Python 3 (ipykernel)",
   "language": "python",
   "name": "python3"
  },
  "language_info": {
   "codemirror_mode": {
    "name": "ipython",
    "version": 3
   },
   "file_extension": ".py",
   "mimetype": "text/x-python",
   "name": "python",
   "nbconvert_exporter": "python",
   "pygments_lexer": "ipython3",
   "version": "3.9.7"
  }
 },
 "nbformat": 4,
 "nbformat_minor": 5
}
